{
 "cells": [
  {
   "cell_type": "markdown",
   "metadata": {},
   "source": [
    "# Одномерная линейная регрессия\n",
    "\n",
    "1. Выведите формулу обновления весов одномерной линейной регрессии методом градиентного спуска.\n",
    "\n",
    "2. Напишите функцию, релизующую одномерной линейной регрессии методом градиентного спуска."
   ]
  },
  {
   "cell_type": "code",
   "execution_count": null,
   "metadata": {},
   "outputs": [],
   "source": [
    "def linear_regression(X, y, m_current=0, b_current=0, epochs=1000, learning_rate=0.0001):\n",
    "    N = float(len(y))\n",
    "    for i in range(epochs):\n",
    "        #your code here\n",
    "        \n",
    "    return m_current, b_current, cost"
   ]
  },
  {
   "cell_type": "markdown",
   "metadata": {},
   "source": [
    "## Сгенерируем точки для задачи регрессии"
   ]
  },
  {
   "cell_type": "code",
   "execution_count": null,
   "metadata": {},
   "outputs": [],
   "source": [
    "import random\n",
    "import numpy as np\n",
    "import pandas as pd\n",
    "from matplotlib import pylab as plt\n",
    "%pylab inline\n",
    "\n",
    "num_points = 100\n",
    "m, b, delta = 1, 0, 1\n",
    "\n",
    "x = np.array([random.uniform(1,9) for i in range(num_points)])\n",
    "y = np.array([random.uniform(m*x+b-delta,m*x+b+delta) for x in x])\n",
    "\n",
    "plt.scatter(x,y)"
   ]
  },
  {
   "cell_type": "markdown",
   "metadata": {},
   "source": [
    "### Обучим нашу линейную регрессию и посмотрим на результат"
   ]
  },
  {
   "cell_type": "code",
   "execution_count": null,
   "metadata": {},
   "outputs": [],
   "source": [
    "m, b, cost = linear_regression(x,y)"
   ]
  },
  {
   "cell_type": "code",
   "execution_count": null,
   "metadata": {},
   "outputs": [],
   "source": [
    "x_pr = np.arange(1,10,0.1)\n",
    "y_pr = [m*elem+b for elem in x_pr] \n",
    "\n",
    "plt.scatter(x,y,color='blue')\n",
    "plt.scatter(x_pr,y_pr,color='red',s=10)\n",
    "\n",
    "print('MSE: {}'.format(cost))"
   ]
  },
  {
   "cell_type": "markdown",
   "metadata": {},
   "source": [
    "# Задание 1\n",
    "\n",
    "Поэкспериментируйте с количеством шагов (epochs) и learning rate.\n",
    "Как меняется итоговая ошибка при фиксированном числе шагов и различных learning rate?\n",
    "\n",
    "1) Постройте графики для learning rate = 0.1, 0.01, 0.0001 и epochs = 10, 100, 1000 (всего 9 графиков).\n",
    "Рядом с каждым графиком выведите ошибку (cost).\n",
    "\n",
    "2) Прокомментируйте каждый график: ответьте на вопрос, почему вы видите именно такую прямую?"
   ]
  },
  {
   "cell_type": "code",
   "execution_count": null,
   "metadata": {},
   "outputs": [],
   "source": [
    "#your code here"
   ]
  },
  {
   "cell_type": "markdown",
   "metadata": {},
   "source": [
    "# Задание 2\n",
    "\n",
    "Подумайте, как применить написанную функцию линейной регрессии для аппроксимации следующего набора точек. Решите эту задачу. Выведите на экран итоговое приближение (график) и ошибку."
   ]
  },
  {
   "cell_type": "code",
   "execution_count": null,
   "metadata": {},
   "outputs": [],
   "source": [
    "num_points = 100\n",
    "m, b, delta = 10, 0, 1\n",
    "\n",
    "x = np.array([random.uniform(1,9) for i in range(num_points)])\n",
    "y = np.array([random.uniform(m*x*x+b-delta,m*x*x+b+delta) for x in x])\n",
    "\n",
    "plt.scatter(x,y)"
   ]
  },
  {
   "cell_type": "code",
   "execution_count": null,
   "metadata": {},
   "outputs": [],
   "source": [
    "#your code here"
   ]
  },
  {
   "cell_type": "markdown",
   "metadata": {},
   "source": [
    "# Задание 3\n",
    "\n",
    "Считайте файл weights_heights.csv"
   ]
  },
  {
   "cell_type": "code",
   "execution_count": null,
   "metadata": {},
   "outputs": [],
   "source": [
    "df = #your code here\n",
    "df.head()"
   ]
  },
  {
   "cell_type": "markdown",
   "metadata": {},
   "source": [
    "Разбейте данные на тренировочную и валидационную часть и обучите линейную регрессию на тренировочной части (используйте функцию linear_regression для обучения)"
   ]
  },
  {
   "cell_type": "code",
   "execution_count": null,
   "metadata": {},
   "outputs": [],
   "source": [
    "from sklearn.model_selection import train_test_split\n",
    "\n",
    "Xtrain, Xtest, ytrain, ytest = train_test_split(df['Height'],df['Weight'],test_size=0.2)\n",
    "\n",
    "m,b,cost = linear_regression(Xtrain,ytrain,learning_rate=0.00001)"
   ]
  },
  {
   "cell_type": "markdown",
   "metadata": {},
   "source": [
    "Сделайте предсказание на тренировочной и тестовой части по формуле y=mx+b.\n",
    "\n",
    "Вычислите MSE на train и на test."
   ]
  },
  {
   "cell_type": "code",
   "execution_count": null,
   "metadata": {},
   "outputs": [],
   "source": [
    "from sklearn.metrics import mean_squared_error\n",
    "\n",
    "prediction_train = #your code here\n",
    "prediction_test = #your code here\n",
    "\n",
    "#your code for MSE here"
   ]
  },
  {
   "cell_type": "markdown",
   "metadata": {},
   "source": [
    "# Теперь проверим, как работает функция линейной регрессии из sklearn"
   ]
  },
  {
   "cell_type": "code",
   "execution_count": null,
   "metadata": {},
   "outputs": [],
   "source": [
    "from sklearn.linear_model import LinearRegression\n",
    "\n",
    "Xtrain2 = Xtrain.values.reshape(-1,1)\n",
    "Xtest2 = Xtest.values.reshape(-1,1)\n",
    "\n",
    "lr = LinearRegression()\n",
    "lr.fit(Xtrain2,ytrain)\n",
    "\n",
    "pred_train = lr.predict(Xtrain2)\n",
    "pred_test = lr.predict(Xtest2)\n",
    "\n",
    "print(mean_squared_error(pred_train,ytrain), mean_squared_error(pred_test,ytest))"
   ]
  },
  {
   "cell_type": "markdown",
   "metadata": {},
   "source": [
    "Посмотрим на качество линейной регрессии на кросс-валидации."
   ]
  },
  {
   "cell_type": "code",
   "execution_count": null,
   "metadata": {},
   "outputs": [],
   "source": [
    "from sklearn.model_selection import cross_val_score\n",
    "\n",
    "print(-cross_val_score(lr, df[['Height']], df['Weight'], cv=3, \n",
    "                       scoring='neg_mean_squared_error').mean())"
   ]
  },
  {
   "cell_type": "markdown",
   "metadata": {},
   "source": [
    "# Задание 4\n",
    "\n",
    "Поработаем с датасетом Бостон."
   ]
  },
  {
   "cell_type": "code",
   "execution_count": null,
   "metadata": {
    "scrolled": true
   },
   "outputs": [],
   "source": [
    "from sklearn.datasets import load_boston\n",
    "\n",
    "data = load_boston()\n",
    "print(data.DESCR)"
   ]
  },
  {
   "cell_type": "code",
   "execution_count": null,
   "metadata": {},
   "outputs": [],
   "source": [
    "X_full = data.data\n",
    "y_full = data.target"
   ]
  },
  {
   "cell_type": "markdown",
   "metadata": {},
   "source": [
    "Посмотрите на качество линейной регрессии (из sklearn) на кросс-валидации."
   ]
  },
  {
   "cell_type": "code",
   "execution_count": null,
   "metadata": {},
   "outputs": [],
   "source": [
    "#your code here"
   ]
  },
  {
   "cell_type": "markdown",
   "metadata": {},
   "source": [
    "Разбейте данные на train и test. Обучите линейную регрессию на train и сделайте предсказание на train и test.\n",
    "\n",
    "Выведите MSE на train и на test."
   ]
  },
  {
   "cell_type": "code",
   "execution_count": null,
   "metadata": {},
   "outputs": [],
   "source": [
    "#your code here"
   ]
  },
  {
   "cell_type": "markdown",
   "metadata": {},
   "source": [
    "Нарисуем матрицу корреляций признаков."
   ]
  },
  {
   "cell_type": "code",
   "execution_count": null,
   "metadata": {},
   "outputs": [],
   "source": [
    "import seaborn as sns\n",
    "\n",
    "data1 = pd.DataFrame(data= np.c_[data['data'], data['target']],\n",
    "                     columns= list(data['feature_names']) + ['target'])\n",
    "\n",
    "corr = data1.corr()\n",
    "sns.heatmap(corr, \n",
    "            xticklabels=corr.columns.values,\n",
    "            yticklabels=corr.columns.values,\n",
    "            cmap=\"PiYG\")"
   ]
  },
  {
   "cell_type": "code",
   "execution_count": null,
   "metadata": {},
   "outputs": [],
   "source": [
    "np.corrcoef(data1['LSTAT'],data1['target'])[0][1]"
   ]
  },
  {
   "cell_type": "markdown",
   "metadata": {},
   "source": [
    "Попробуйте убрать из данных признаки с наименьшей корреляцией с target (1, 2 или 3 признака) и обучить линейную регрессию на оставшихся признаках. Как изменилось качество?"
   ]
  },
  {
   "cell_type": "code",
   "execution_count": null,
   "metadata": {},
   "outputs": [],
   "source": [
    "#your code here"
   ]
  },
  {
   "cell_type": "markdown",
   "metadata": {},
   "source": [
    "# Задание 1 (домашнее)\n",
    "\n",
    "Визуализируйте процесс обучения линейной регрессии, а именно:\n",
    "\n",
    "любым способом сделайте анимацию процесса обучения, т.е. выводите регрессионную линию через 10, 20, 30 и т.д. шагов градиентного спуска. Если получится сделать анимацию - хорошо. Но можно просто вывести несколько графиков подряд."
   ]
  },
  {
   "cell_type": "code",
   "execution_count": null,
   "metadata": {},
   "outputs": [],
   "source": [
    "#your code here"
   ]
  },
  {
   "cell_type": "markdown",
   "metadata": {},
   "source": [
    "# Задание 2 (домашнее)\n",
    "\n",
    "Поработайте с датасетом affairs. Предскажите значение в колонке affairs по остальным факторам.\n",
    "\n",
    "1. Сначала проведите разведочный анализ, а именно, исследуйте зависимость таргета от каждого фактора (или пары факторов).\n",
    "\n",
    "2. Обучите линейную регрессию, посмотрите на качество на кросс-валидации, затем разбейте данные на train и test,\n",
    "обучите алгоритм на train и сделайте предсказания на train и test, выведите ошибки.\n",
    "\n",
    "3. Посмотрите на матрицу корреляций факторов и целевой переменной. \n",
    "Если есть пары сильно коррелирующих между собой факторов, удалите один из пары.\n",
    "\n",
    "Если есть факторы, слабо коррелирующие с таргетом, удалите их.\n",
    "\n",
    "Заново обучите алгоритм на обновленных данных. Как изменилось его качество?"
   ]
  },
  {
   "cell_type": "code",
   "execution_count": null,
   "metadata": {},
   "outputs": [],
   "source": [
    "#your code here"
   ]
  }
 ],
 "metadata": {
  "kernelspec": {
   "display_name": "Python 3",
   "language": "python",
   "name": "python3"
  },
  "language_info": {
   "codemirror_mode": {
    "name": "ipython",
    "version": 3
   },
   "file_extension": ".py",
   "mimetype": "text/x-python",
   "name": "python",
   "nbconvert_exporter": "python",
   "pygments_lexer": "ipython3",
   "version": "3.6.6"
  }
 },
 "nbformat": 4,
 "nbformat_minor": 2
}
