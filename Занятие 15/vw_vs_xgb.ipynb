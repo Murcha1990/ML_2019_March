{
 "cells": [
  {
   "cell_type": "markdown",
   "metadata": {
    "colab_type": "text",
    "id": "2x_U57KKQOzx"
   },
   "source": [
    "# Vowpal Wabbit\n",
    "\n",
    "Поработаем с той же задачей и с теми же данными, на которых мы настраивали параметры xgboost.\n",
    "\n",
    "Посмотрим, справятся ли линейные алгоритмы, реализованные в vowpal wabbit, с этой задачей."
   ]
  },
  {
   "cell_type": "code",
   "execution_count": null,
   "metadata": {
    "colab": {
     "base_uri": "https://localhost:8080/",
     "height": 731
    },
    "colab_type": "code",
    "id": "J7Lp9oHaQVTx",
    "outputId": "95208967-fb97-4c9f-9b71-2a98f9b7074d"
   },
   "outputs": [],
   "source": [
    "!wget https://www.dropbox.com/s/eg9wt98ak9n91w2/train_medium.csv?dl=0\n",
    "!wget https://www.dropbox.com/s/mji0jvu5wo34p2w/test_medium.csv?dl=0"
   ]
  },
  {
   "cell_type": "code",
   "execution_count": null,
   "metadata": {
    "colab": {
     "base_uri": "https://localhost:8080/",
     "height": 104
    },
    "colab_type": "code",
    "id": "l_KXRvwGQye5",
    "outputId": "a0e04f85-ba81-47bd-fafd-3cbb84a81f75"
   },
   "outputs": [],
   "source": [
    "!ls"
   ]
  },
  {
   "cell_type": "code",
   "execution_count": null,
   "metadata": {
    "colab": {},
    "colab_type": "code",
    "id": "GbxqpO_rQOz0"
   },
   "outputs": [],
   "source": [
    "import pandas as pd\n",
    "\n",
    "X_train = pd.read_csv('train_medium.csv?dl=0')\n",
    "X_test = pd.read_csv('test_medium.csv?dl=0')"
   ]
  },
  {
   "cell_type": "markdown",
   "metadata": {
    "colab_type": "text",
    "id": "3mKVFx0wQOz6"
   },
   "source": [
    "**Измените функцию save_to_vw** из предыдущего ноутбука (см.ниже) так, чтобы она записывала файлы train_medium и test_medium в нужном формате. Не забудьте, что столбец 'Disbursed' является целевым, поэтому а) он определяет значение переменной target, b) его не нужно записывать в файл-матрицу с признаками."
   ]
  },
  {
   "cell_type": "code",
   "execution_count": null,
   "metadata": {
    "colab": {},
    "colab_type": "code",
    "id": "oR5d3jhwQOz8"
   },
   "outputs": [],
   "source": [
    "import re\n",
    "\n",
    "#change this function\n",
    "\n",
    "def save_to_vw(data, fname):\n",
    "    with open(fname, 'w') as fout:\n",
    "        for _, row in data.iterrows():\n",
    "            text = filter(lambda x: len(x) > 1, re.split(\"[^a-z]\",\n",
    "                                    row.BodyMarkdown.lower()))\n",
    "            text = ' '.join(text)\n",
    "            if row.OpenStatus == \"open\":\n",
    "                target = 1\n",
    "            else:\n",
    "                target = -1\n",
    "            fout.write('{0} |n 0:{1} {2} |t {3}\\n'.format(target, \n",
    "                                        row.ReputationAtPostCreation,\n",
    "                                        row.Tag1,\n",
    "                                        text))"
   ]
  },
  {
   "cell_type": "code",
   "execution_count": null,
   "metadata": {
    "colab": {},
    "colab_type": "code",
    "id": "v_MVFXeDQO0B"
   },
   "outputs": [],
   "source": [
    "save_to_vw(X_train, 'train_medium_vw.vw')\n",
    "save_to_vw(X_test, 'test_medium_vw.vw')"
   ]
  },
  {
   "cell_type": "markdown",
   "metadata": {
    "colab_type": "text",
    "id": "p8p_gqHyQO0E"
   },
   "source": [
    "Обучите vowpal wabbit. Например, предсказания классов можно сохранять в файл с именем preds.txt, а предсказания вероятностей - в файл probs.txt.\n",
    "\n",
    "Поэкспериментируйте с параметрами vowpal wabbit и постарайтесь добиться наилучшего качества на тесте.\n",
    "\n",
    "Постарайтесь, насколько это возможно, приблизить ROC-AUC к значению, полученному после оптимизации xgboost."
   ]
  },
  {
   "cell_type": "code",
   "execution_count": null,
   "metadata": {
    "colab": {
     "base_uri": "https://localhost:8080/",
     "height": 52
    },
    "colab_type": "code",
    "id": "nqhMCt-fSmYl",
    "outputId": "291bbc2c-5758-46ce-f8bd-58fc68860736"
   },
   "outputs": [],
   "source": [
    "!head -n 2 train_medium_vw.vw"
   ]
  },
  {
   "cell_type": "code",
   "execution_count": null,
   "metadata": {
    "colab": {
     "base_uri": "https://localhost:8080/",
     "height": 728
    },
    "colab_type": "code",
    "id": "ujOVfiQYS4v5",
    "outputId": "f133c57a-148d-485c-8210-f22ab47cfe06"
   },
   "outputs": [],
   "source": [
    "#your code here"
   ]
  },
  {
   "cell_type": "code",
   "execution_count": null,
   "metadata": {
    "colab": {
     "base_uri": "https://localhost:8080/",
     "height": 35
    },
    "colab_type": "code",
    "id": "8VfjxCROQO0G",
    "outputId": "f8c463af-5339-48f2-c55f-50443df4e61c"
   },
   "outputs": [],
   "source": [
    "from sklearn import metrics\n",
    "\n",
    "probs = []\n",
    "f=open('probs.txt','r')\n",
    "lines = f.readlines()\n",
    "for line in lines:\n",
    "    probs.append(float(line))\n",
    "    \n",
    "print('ROC-AUC:', metrics.roc_auc_score(X_test['Disbursed'], probs))"
   ]
  },
  {
   "cell_type": "code",
   "execution_count": null,
   "metadata": {
    "colab": {
     "base_uri": "https://localhost:8080/",
     "height": 236
    },
    "colab_type": "code",
    "id": "h_Yk3D93QO0J",
    "outputId": "8574ba12-ef25-4ea4-91b0-502f1c8236f8"
   },
   "outputs": [],
   "source": [
    "res = []\n",
    "f=open('preds.txt','r')\n",
    "lines = f.readlines()\n",
    "for line in lines:\n",
    "    if float(line) < 0:\n",
    "        res.append(0)\n",
    "    else:\n",
    "        res.append(1)\n",
    "    \n",
    "print('accuracy:', metrics.accuracy_score(X_test['Disbursed'].values, res))"
   ]
  }
 ],
 "metadata": {
  "colab": {
   "name": "vw_vs_xgb.ipynb",
   "provenance": [],
   "version": "0.3.2"
  },
  "kernelspec": {
   "display_name": "Python 3",
   "language": "python",
   "name": "python3"
  },
  "language_info": {
   "codemirror_mode": {
    "name": "ipython",
    "version": 3
   },
   "file_extension": ".py",
   "mimetype": "text/x-python",
   "name": "python",
   "nbconvert_exporter": "python",
   "pygments_lexer": "ipython3",
   "version": "3.6.6"
  }
 },
 "nbformat": 4,
 "nbformat_minor": 1
}
