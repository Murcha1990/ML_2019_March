{
 "cells": [
  {
   "cell_type": "markdown",
   "metadata": {},
   "source": [
    "# Outlier detecion\n",
    "\n",
    "Будем использовать библиотеку pyod (pip install pyod)"
   ]
  },
  {
   "cell_type": "code",
   "execution_count": null,
   "metadata": {},
   "outputs": [],
   "source": [
    "from __future__ import division\n",
    "from __future__ import print_function\n",
    "\n",
    "import os\n",
    "import sys\n",
    "from time import time\n",
    "\n",
    "import warnings\n",
    "\n",
    "warnings.filterwarnings(\"ignore\")\n",
    "\n",
    "import numpy as np\n",
    "import pandas as pd\n",
    "from sklearn.model_selection import train_test_split\n",
    "from scipy.io import loadmat\n",
    "\n",
    "from pyod.models.abod import ABOD\n",
    "from pyod.models.cblof import CBLOF\n",
    "from pyod.models.feature_bagging import FeatureBagging\n",
    "from pyod.models.hbos import HBOS\n",
    "from pyod.models.iforest import IForest\n",
    "from pyod.models.knn import KNN\n",
    "from pyod.models.lof import LOF\n",
    "from pyod.models.mcd import MCD\n",
    "from pyod.models.ocsvm import OCSVM\n",
    "from pyod.models.pca import PCA\n",
    "\n",
    "from pyod.utils.utility import standardizer\n",
    "from pyod.utils.utility import precision_n_scores\n",
    "from sklearn.metrics import roc_auc_score"
   ]
  },
  {
   "cell_type": "markdown",
   "metadata": {},
   "source": [
    "### Сгенерируем набор точек для задачи поиска выбросов"
   ]
  },
  {
   "cell_type": "code",
   "execution_count": null,
   "metadata": {},
   "outputs": [],
   "source": [
    "from pyod.utils.data import generate_data\n",
    "from matplotlib import pylab as plt\n",
    "%pylab inline\n",
    "\n",
    "contamination = 0.1  # percentage of outliers\n",
    "n_train = 200  # number of training points\n",
    "n_test = 100  # number of testing points\n",
    "\n",
    "# Generate sample data\n",
    "X_train, y_train, X_test, y_test = \\\n",
    "    generate_data(n_train=n_train,\n",
    "                  n_test=n_test,\n",
    "                  n_features=2,\n",
    "                  contamination=contamination,\n",
    "                  random_state=42)\n",
    "\n",
    "plt.scatter(X_train[:,0],X_train[:,1],c=y_train)\n",
    "plt.show()"
   ]
  },
  {
   "cell_type": "markdown",
   "metadata": {},
   "source": [
    "### Применим KNN для нахождения выбросов"
   ]
  },
  {
   "cell_type": "code",
   "execution_count": null,
   "metadata": {},
   "outputs": [],
   "source": [
    "from pyod.models.knn import KNN   # kNN detector\n",
    "\n",
    "# train kNN detector\n",
    "clf_name = 'KNN'\n",
    "clf = KNN()\n",
    "clf.fit(X_train)\n",
    "\n",
    "# get the prediction label and outlier scores of the training data\n",
    "y_train_pred = clf.labels_  # binary labels (0: inliers, 1: outliers)\n",
    "y_train_scores = clf.decision_scores_  # raw outlier scores\n",
    "\n",
    "# get the prediction on the test data\n",
    "y_test_pred = clf.predict(X_test)  # outlier labels (0 or 1)\n",
    "y_test_scores = clf.decision_function(X_test)  # outlier scores"
   ]
  },
  {
   "cell_type": "markdown",
   "metadata": {},
   "source": [
    "### Посмотрим на качество алгоритма"
   ]
  },
  {
   "cell_type": "code",
   "execution_count": null,
   "metadata": {},
   "outputs": [],
   "source": [
    "from pyod.utils.data import evaluate_print\n",
    "\n",
    "# evaluate and print the results\n",
    "print(\"\\nOn Training Data:\")\n",
    "evaluate_print(clf_name, y_train, y_train_scores)\n",
    "print(\"\\nOn Test Data:\")\n",
    "evaluate_print(clf_name, y_test, y_test_scores)"
   ]
  },
  {
   "cell_type": "markdown",
   "metadata": {},
   "source": [
    "### Визуализируем результат"
   ]
  },
  {
   "cell_type": "code",
   "execution_count": null,
   "metadata": {},
   "outputs": [],
   "source": [
    "from pyod.utils.example import visualize\n",
    "    \n",
    "visualize(clf_name, X_train, y_train, X_test, y_test, y_train_pred,\n",
    "    y_test_pred, show_figure=True, save_figure=False)"
   ]
  },
  {
   "cell_type": "markdown",
   "metadata": {},
   "source": [
    "### Сравним различные алгоритмы для нахождения выбросов по времени работы и качеству\n",
    "\n",
    "Загрузим данные и информацию о проценте выбросов"
   ]
  },
  {
   "cell_type": "code",
   "execution_count": null,
   "metadata": {},
   "outputs": [],
   "source": [
    "mat_file = 'arrhythmia.mat'\n",
    "\n",
    "random_state = np.random.RandomState(42)\n",
    "\n",
    "df_columns = ['Characteristics', 'Data', '#Samples', '# Dimensions', 'Outlier Perc',\n",
    "              'ABOD', 'CBLOF', 'FB', 'HBOS', 'IForest', 'KNN', 'LOF', 'MCD',\n",
    "              'OCSVM', 'PCA']\n",
    "\n",
    "mat = loadmat(mat_file)\n",
    "\n",
    "X = mat['X']\n",
    "y = mat['y'].ravel()\n",
    "outliers_fraction = np.count_nonzero(y) / len(y)\n",
    "outliers_percentage = round(outliers_fraction * 100, ndigits=4)\n",
    "\n",
    "# construct containers for saving results\n",
    "roc_list = ['ROC-AUC',mat_file[:-4], X.shape[0], X.shape[1], outliers_percentage]\n",
    "prn_list = ['Precision@N',mat_file[:-4], X.shape[0], X.shape[1], outliers_percentage]\n",
    "time_list = ['Time', mat_file[:-4], X.shape[0], X.shape[1], outliers_percentage]"
   ]
  },
  {
   "cell_type": "markdown",
   "metadata": {},
   "source": [
    "Разобъем данные на тренировочную и валидационную части и масштабируем их."
   ]
  },
  {
   "cell_type": "code",
   "execution_count": null,
   "metadata": {},
   "outputs": [],
   "source": [
    "# 60% data for training and 40% for testing\n",
    "X_train, X_test, y_train, y_test = train_test_split(X, y, test_size=0.4,\n",
    "                                                    random_state=random_state)\n",
    "\n",
    "# standardizing data for processing\n",
    "X_train_norm, X_test_norm = standardizer(X_train, X_test)"
   ]
  },
  {
   "cell_type": "markdown",
   "metadata": {},
   "source": [
    "Применим различные алгоритмы нахождения выбросов"
   ]
  },
  {
   "cell_type": "code",
   "execution_count": null,
   "metadata": {},
   "outputs": [],
   "source": [
    "from time import time\n",
    "\n",
    "classifiers = {'Angle-based Outlier Detector (ABOD)': ABOD(\n",
    "    contamination=outliers_fraction),\n",
    "    'Cluster-based Local Outlier Factor': CBLOF(\n",
    "        contamination=outliers_fraction, check_estimator=False,\n",
    "        random_state=random_state),\n",
    "    'Feature Bagging': FeatureBagging(contamination=outliers_fraction,\n",
    "                                     random_state=random_state),\n",
    "    'Histogram-base Outlier Detection (HBOS)': HBOS(\n",
    "        contamination=outliers_fraction),\n",
    "    'Isolation Forest': IForest(contamination=outliers_fraction,\n",
    "                                random_state=random_state),\n",
    "    'K Nearest Neighbors (KNN)': KNN(contamination=outliers_fraction),\n",
    "    'Local Outlier Factor (LOF)': LOF(\n",
    "        contamination=outliers_fraction),\n",
    "    'Minimum Covariance Determinant (MCD)': MCD(\n",
    "        contamination=outliers_fraction, random_state=random_state),\n",
    "    'One-class SVM (OCSVM)': OCSVM(contamination=outliers_fraction),\n",
    "    'Principal Component Analysis (PCA)': PCA(\n",
    "        contamination=outliers_fraction, random_state=random_state),\n",
    "}\n",
    "\n",
    "for clf_name, clf in classifiers.items():\n",
    "    t0 = time()\n",
    "    #обучите алгоритм на X_train_norm\n",
    "    #your code here\n",
    "    #test_scores = сделайте предсказание (decision_function) на X_test_norm\n",
    "    test_scores = #your code here\n",
    "    t1 = time()\n",
    "    duration = round(t1 - t0, ndigits=4)\n",
    "    time_list.append(duration)\n",
    "\n",
    "    #вычислите roc_auc_score и precision_n_scores для тестовых данных (y_test, test_scores)\n",
    "    roc = #your code here\n",
    "    prn = #your code here\n",
    "\n",
    "    print('{clf_name} ROC:{roc}, precision @ rank n:{prn}, '\n",
    "          'execution time: {duration}s'.format(\n",
    "        clf_name=clf_name, roc=roc, prn=prn, duration=duration))\n",
    "\n",
    "    roc_list.append(roc)\n",
    "    prn_list.append(prn)\n",
    "    \n",
    "\n",
    "df_time = pd.DataFrame([time_list],columns=df_columns)\n",
    "df_roc = pd.DataFrame([roc_list],columns=df_columns)\n",
    "df_prn = pd.DataFrame([prn_list],columns=df_columns)\n",
    "\n",
    "df_res = pd.concat([df_time, df_roc, df_prn], axis=0)"
   ]
  },
  {
   "cell_type": "code",
   "execution_count": null,
   "metadata": {},
   "outputs": [],
   "source": [
    "#выведите на экран таблицу с результатами\n",
    "#your code here"
   ]
  },
  {
   "cell_type": "markdown",
   "metadata": {},
   "source": [
    "### Попробуем определить долю выбросов в датасете"
   ]
  },
  {
   "cell_type": "code",
   "execution_count": null,
   "metadata": {},
   "outputs": [],
   "source": [
    "data = pd.read_csv(\"heart.csv\")"
   ]
  },
  {
   "cell_type": "markdown",
   "metadata": {},
   "source": [
    "Выделите в данных целевой вектор y ('target') и матрицу признаков X"
   ]
  },
  {
   "cell_type": "code",
   "execution_count": null,
   "metadata": {},
   "outputs": [],
   "source": [
    "#your code here"
   ]
  },
  {
   "cell_type": "markdown",
   "metadata": {},
   "source": [
    "Определите долю выбросов (сильных выбросов) с помощью интерквартильного размаха (см. ноутбук с предыдущего занятия).\n",
    "Сильный выброс - это точка < Q1-3*IQR или > Q3+3*IQR"
   ]
  },
  {
   "cell_type": "code",
   "execution_count": null,
   "metadata": {},
   "outputs": [],
   "source": [
    "Q1 = #your code here\n",
    "Q3 = #your code here\n",
    "IQR = #your code here\n",
    "print(IQR)"
   ]
  },
  {
   "cell_type": "markdown",
   "metadata": {},
   "source": [
    "Удалите сильные выбросы"
   ]
  },
  {
   "cell_type": "code",
   "execution_count": null,
   "metadata": {},
   "outputs": [],
   "source": [
    "X_wo_out = #your code here\n",
    "y_wo_out = #your code here"
   ]
  },
  {
   "cell_type": "markdown",
   "metadata": {},
   "source": [
    "Выведите на экран долю выбросов"
   ]
  },
  {
   "cell_type": "code",
   "execution_count": null,
   "metadata": {},
   "outputs": [],
   "source": [
    "#your code here"
   ]
  },
  {
   "cell_type": "markdown",
   "metadata": {},
   "source": [
    "Визуализируем данные с помощью TSNE (см. предыдущий семинар). Раскрасьте точки в цвета, соответствующие значениям целевого вектора y."
   ]
  },
  {
   "cell_type": "code",
   "execution_count": null,
   "metadata": {},
   "outputs": [],
   "source": [
    "#your code here"
   ]
  },
  {
   "cell_type": "markdown",
   "metadata": {},
   "source": [
    "Помогла ли нам визуализация скорректировать представление о доле выбросов?\n",
    "\n",
    "#### Примените логистическую регрессию ко всем данным на кросс-валидации с тремя фолдами и выведите среднее качество (используйте функцию cross_val_score)"
   ]
  },
  {
   "cell_type": "code",
   "execution_count": null,
   "metadata": {},
   "outputs": [],
   "source": [
    "from sklearn.model_selection import cross_val_score\n",
    "from sklearn.linear_model import LogisticRegression\n",
    "\n",
    "#your code here"
   ]
  },
  {
   "cell_type": "markdown",
   "metadata": {},
   "source": [
    "Теперь возьмите данные с удаленными с помощью IQR выбросами (X_wo_out, y_wo_out) и посмотрите качество алгоритма на этих данных."
   ]
  },
  {
   "cell_type": "code",
   "execution_count": null,
   "metadata": {},
   "outputs": [],
   "source": [
    "#your code here"
   ]
  },
  {
   "cell_type": "markdown",
   "metadata": {},
   "source": [
    "Примените методы поиска выбросов из библиотеки pyod, удалите выбросы и выберите наилучший метод согласно результатам по кросс-валидации"
   ]
  },
  {
   "cell_type": "code",
   "execution_count": null,
   "metadata": {},
   "outputs": [],
   "source": [
    "outliers_fraction = #your code here\n",
    "\n",
    "classifiers = {'Angle-based Outlier Detector (ABOD)': ABOD(\n",
    "    contamination=outliers_fraction),\n",
    "    'Cluster-based Local Outlier Factor': CBLOF(\n",
    "        contamination=outliers_fraction, check_estimator=False,\n",
    "        random_state=random_state),\n",
    "    'Feature Bagging': FeatureBagging(contamination=outliers_fraction,\n",
    "                                     random_state=random_state),\n",
    "    'Histogram-base Outlier Detection (HBOS)': HBOS(\n",
    "        contamination=outliers_fraction),\n",
    "    'Isolation Forest': IForest(contamination=outliers_fraction,\n",
    "                                random_state=random_state),\n",
    "    'K Nearest Neighbors (KNN)': KNN(contamination=outliers_fraction),\n",
    "    'Local Outlier Factor (LOF)': LOF(\n",
    "        contamination=outliers_fraction),\n",
    "    'Minimum Covariance Determinant (MCD)': MCD(\n",
    "        contamination=outliers_fraction, random_state=random_state),\n",
    "    'One-class SVM (OCSVM)': OCSVM(contamination=outliers_fraction),\n",
    "    'Principal Component Analysis (PCA)': PCA(\n",
    "        contamination=outliers_fraction, random_state=random_state),\n",
    "}\n",
    "\n",
    "for clf_name, clf in classifiers.items():\n",
    "    #your code here"
   ]
  }
 ],
 "metadata": {
  "kernelspec": {
   "display_name": "Python 3",
   "language": "python",
   "name": "python3"
  },
  "language_info": {
   "codemirror_mode": {
    "name": "ipython",
    "version": 3
   },
   "file_extension": ".py",
   "mimetype": "text/x-python",
   "name": "python",
   "nbconvert_exporter": "python",
   "pygments_lexer": "ipython3",
   "version": "3.6.6"
  }
 },
 "nbformat": 4,
 "nbformat_minor": 2
}
