{
 "cells": [
  {
   "cell_type": "code",
   "execution_count": null,
   "metadata": {},
   "outputs": [],
   "source": [
    "# conda install -c conda-forge ffmpeg"
   ]
  },
  {
   "cell_type": "code",
   "execution_count": null,
   "metadata": {},
   "outputs": [],
   "source": [
    "def gradient_step(X, y, m_current=0, b_current=0, epochs=1000, learning_rate=0.0001):\n",
    "    N = float(len(y))\n",
    "    \n",
    "    y_current = m_current * X + b_current\n",
    "        \n",
    "    m_gradient = (-2./N)*sum(X*(y-y_current))\n",
    "    b_gradient = (-2./N)*sum(y-y_current)\n",
    "        \n",
    "    m_current = m_current - learning_rate * m_gradient\n",
    "    b_current = b_current - learning_rate * b_gradient        \n",
    "    \n",
    "    return m_current, b_current"
   ]
  },
  {
   "cell_type": "code",
   "execution_count": null,
   "metadata": {
    "scrolled": false
   },
   "outputs": [],
   "source": [
    "import matplotlib.animation as animation\n",
    "from matplotlib import pylab as plt\n",
    "import numpy as np\n",
    "import random\n",
    "%matplotlib notebook\n",
    "\n",
    "global m, b, x, y\n",
    "\n",
    "fig, ax = plt.subplots()\n",
    "\n",
    "m0, b0, delta = 1, 0, 1\n",
    "x = np.array([random.uniform(1,9) for i in range(100)])\n",
    "y = np.array([random.uniform(m0*x+b0-delta,m0*x+b0+delta) for x in x])\n",
    "line, = ax.plot(x, y)\n",
    "\n",
    "ax.scatter(x,y,color='blue')\n",
    "\n",
    "def animate(i):\n",
    "    global m, b, x, y\n",
    "    \n",
    "    if i == 0:\n",
    "        m, b = 0,0\n",
    "    m, b = gradient_step(x,y,m_current=m, b_current=b, learning_rate=0.0001)\n",
    "    \n",
    "    x_pr = np.arange(1,10,0.1)\n",
    "    y_pr = [m*elem+b for elem in x_pr] \n",
    "\n",
    "    line.set_xdata(x_pr)  # update the data\n",
    "    line.set_ydata(y_pr)  # update the data\n",
    "    \n",
    "    return line,\n",
    "    \n",
    "def init():\n",
    "    line.set_ydata(np.arange(1,10,0.1))  # update the data\n",
    "    return line,\n",
    "        \n",
    "anim = animation.FuncAnimation(fig, animate, frames=1000, init_func=init, interval=100, blit=True)\n",
    "\n",
    "from IPython.display import HTML\n",
    "HTML(anim.to_html5_video())"
   ]
  },
  {
   "cell_type": "markdown",
   "metadata": {},
   "source": [
    "# Задание\n",
    "\n",
    "С помощью анимации нарисуйте прямую, крутящуюся по кругу вокруг своего центра."
   ]
  },
  {
   "cell_type": "code",
   "execution_count": null,
   "metadata": {},
   "outputs": [],
   "source": [
    "#your code here"
   ]
  }
 ],
 "metadata": {
  "kernelspec": {
   "display_name": "Python 3",
   "language": "python",
   "name": "python3"
  },
  "language_info": {
   "codemirror_mode": {
    "name": "ipython",
    "version": 3
   },
   "file_extension": ".py",
   "mimetype": "text/x-python",
   "name": "python",
   "nbconvert_exporter": "python",
   "pygments_lexer": "ipython3",
   "version": "3.6.6"
  }
 },
 "nbformat": 4,
 "nbformat_minor": 2
}
