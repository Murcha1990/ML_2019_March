{
 "cells": [
  {
   "cell_type": "markdown",
   "metadata": {
    "_uuid": "21c25e4f8bb31570029fd6b069131a5d00f84cf1"
   },
   "source": [
    "# Исследование факторов, влияющих на оценки студентов на экзаменах\n",
    "\n",
    "## Цели\n",
    "#### 1. Понять, как различные факторы (экономические, социальные, личные) влияют на оценки студентов на экзаменах \n",
    "#### 2. Познакомиться с библиотекой seaborn.\n",
    "#### 3. Построить простейшие предсказательные модели\n",
    "\n",
    "## Источник\n",
    "https://www.kaggle.com/datasets"
   ]
  },
  {
   "cell_type": "markdown",
   "metadata": {
    "_uuid": "1b89f791bf6725555291066adf5ae7b0440c2c46"
   },
   "source": [
    "#### Импортируем необходимые библиотеки"
   ]
  },
  {
   "cell_type": "code",
   "execution_count": null,
   "metadata": {
    "_uuid": "568eb2d31004b87d22e119112ae01a1e75105f1d"
   },
   "outputs": [],
   "source": [
    "import numpy as np\n",
    "import pandas as pd\n",
    "import seaborn as sns\n",
    "import matplotlib.pyplot as plt"
   ]
  },
  {
   "cell_type": "markdown",
   "metadata": {
    "_uuid": "ea0d9f66ad13b0209e6fee799631e83663b23d9f"
   },
   "source": [
    "#### Зафиксируем минимальный балл для сдачи экзамена"
   ]
  },
  {
   "cell_type": "code",
   "execution_count": null,
   "metadata": {
    "_uuid": "0b2a8028554a52c2348772d70fbb1622eec65c04"
   },
   "outputs": [],
   "source": [
    "passmark = 40"
   ]
  },
  {
   "cell_type": "markdown",
   "metadata": {
    "_uuid": "64576ad2924cd795c6ef41b2f7db4cd90bffb2a3"
   },
   "source": [
    "#### Считайте данные из csv файла StudentsPerformance.csv"
   ]
  },
  {
   "cell_type": "code",
   "execution_count": null,
   "metadata": {
    "_uuid": "cf75361436475758b8aa1cd4e677e0dbd4b506d3"
   },
   "outputs": [],
   "source": [
    "df = #your code here"
   ]
  },
  {
   "cell_type": "markdown",
   "metadata": {
    "_uuid": "8524af4cbd2f7b7810e8a3095a74c9fe1df7eafa"
   },
   "source": [
    "#### Напечатаем первые несколько строк в таблице"
   ]
  },
  {
   "cell_type": "code",
   "execution_count": null,
   "metadata": {
    "_uuid": "fe62eee87b9b94ab923f57b55eaf0554612aa9e9"
   },
   "outputs": [],
   "source": [
    "df.head()"
   ]
  },
  {
   "cell_type": "markdown",
   "metadata": {
    "_uuid": "5fcd622942b7ecfc318934c6a245d3bb3bf01e84"
   },
   "source": [
    "#### Выведите на экран размеры полученной таблицы"
   ]
  },
  {
   "cell_type": "code",
   "execution_count": null,
   "metadata": {
    "_uuid": "16281cd7b4e941ebed8ca2e1b42f62f55d838684"
   },
   "outputs": [],
   "source": [
    "#your code here"
   ]
  },
  {
   "cell_type": "code",
   "execution_count": null,
   "metadata": {},
   "outputs": [],
   "source": [
    "df.info()"
   ]
  },
  {
   "cell_type": "markdown",
   "metadata": {
    "_uuid": "fe8e3d58d29ca25dbbcf001392377643e6ff9a36"
   },
   "source": [
    "#### Выведите на экран статистические характеристики числовых столбцов таблицы (минимум, максимум, среднее значение, стандартное отклонение)"
   ]
  },
  {
   "cell_type": "code",
   "execution_count": null,
   "metadata": {
    "_uuid": "e3d4bb80d2c4251fe517c24fcf08c5ff2d67b8aa"
   },
   "outputs": [],
   "source": [
    "#your code here"
   ]
  },
  {
   "cell_type": "code",
   "execution_count": null,
   "metadata": {},
   "outputs": [],
   "source": [
    "plt.figure(figsize=(14,6))\n",
    "plt.subplot(1, 4, 1)\n",
    "plt.title('MATH SCORES')\n",
    "sns.violinplot(y='math score',data=df,palette='summer',linewidth=3)\n",
    "plt.subplot(1, 4, 2)\n",
    "plt.title('READING SCORES')\n",
    "sns.violinplot(y='reading score',data=df,palette='Wistia_r',linewidth=3)\n",
    "plt.subplot(1, 4, 3)\n",
    "plt.title('WRITING SCORES')\n",
    "sns.violinplot(y='writing score',data=df,palette='spring',linewidth=3)\n",
    "plt.show()"
   ]
  },
  {
   "cell_type": "markdown",
   "metadata": {},
   "source": [
    "Из графиков видно, что большинство студентов набрали 60-80 по математике и 50-80 по чтению и письму."
   ]
  },
  {
   "cell_type": "markdown",
   "metadata": {
    "_uuid": "b26b7de83485ecb3b8a0a7865a596e24527c7b2f"
   },
   "source": [
    "#### Проверьте, есть ли в таблице пропущенные значения"
   ]
  },
  {
   "cell_type": "code",
   "execution_count": null,
   "metadata": {
    "_uuid": "4eac3f8f83d07c6e58ad1576fe0e773f37034a2f"
   },
   "outputs": [],
   "source": [
    "#your code here"
   ]
  },
  {
   "cell_type": "markdown",
   "metadata": {},
   "source": [
    "**Посмотрим, как зависят оценки от того, проходил ли студент курс для подготовки к сдаче экзамена (test preparation course)\n",
    "и от пола (gender)**\n",
    "\n",
    "Постройте график (гистограмму, любую нравящуюся вам визуализацию) зависимости оценок по математике (math score) от test preparation course и от gender. То же самое - для оценок за reading и writing."
   ]
  },
  {
   "cell_type": "code",
   "execution_count": null,
   "metadata": {},
   "outputs": [],
   "source": [
    "plt.figure(figsize=(20,8))\n",
    "plt.subplot(1, 3, 1)\n",
    "#your code here\n",
    "plt.title('MATH SCORES')\n",
    "plt.subplot(1, 3, 2)\n",
    "#your code here\n",
    "plt.title('READING SCORES')\n",
    "plt.subplot(1, 3, 3)\n",
    "#your code here\n",
    "plt.title('WRITING SCORES')\n",
    "plt.show()"
   ]
  },
  {
   "cell_type": "markdown",
   "metadata": {},
   "source": [
    "Какие выводы можно сделать из этих графиков?\n",
    "\n",
    "Сделайте выводы и напишите их в этой ячейке."
   ]
  },
  {
   "cell_type": "code",
   "execution_count": null,
   "metadata": {},
   "outputs": [],
   "source": [
    "sns.pairplot(data=df,hue='gender',plot_kws={'alpha':0.2},palette='hot')"
   ]
  },
  {
   "cell_type": "markdown",
   "metadata": {},
   "source": [
    "Как влияет lunch на оценки?\n",
    "\n",
    "Выведите на экран все различные значения из столбца lunch"
   ]
  },
  {
   "cell_type": "code",
   "execution_count": null,
   "metadata": {},
   "outputs": [],
   "source": [
    "#your code here"
   ]
  },
  {
   "cell_type": "markdown",
   "metadata": {},
   "source": [
    "Постройте barplot, отражающий зависимость оценок по math от test preparation course; сделайте разделение по 'lunch'.\n",
    "То же самое - для reading и writing."
   ]
  },
  {
   "cell_type": "code",
   "execution_count": null,
   "metadata": {},
   "outputs": [],
   "source": [
    "#your code here"
   ]
  },
  {
   "cell_type": "markdown",
   "metadata": {},
   "source": [
    "Как зависят баллы от типа lunch?"
   ]
  },
  {
   "cell_type": "markdown",
   "metadata": {
    "_uuid": "cccc10c7a787878ea4ccd5a440a8f3d2bc9c76d3"
   },
   "source": [
    "####  Исследуем оценки по математике (Math)\n",
    "\n",
    "Постройте гистограмму (plt.hist или sns.countplot) распределения оценок студентов по математике."
   ]
  },
  {
   "cell_type": "code",
   "execution_count": null,
   "metadata": {
    "_uuid": "2dad62e7e10d4faf42f23317864c79c3ac904a08",
    "scrolled": false
   },
   "outputs": [],
   "source": [
    "plt.figure(figsize=(8,6))\n",
    "#your code here"
   ]
  },
  {
   "cell_type": "markdown",
   "metadata": {
    "_uuid": "3e832cb427c4314582d1953a41b8c78db75e30e3"
   },
   "source": [
    "#### Сколько студентов успешно сдали экзамен по математике?\n",
    "\n",
    "Создайте новый столбец в таблице df под названием Math_PassStatus и запишите в него F, если студент не сдал экзамен по математике (балл за экзамен < passmark), и P иначе.\n",
    "\n",
    "Посчитайте количество студентов, сдавших и не сдавших экзамен по математике."
   ]
  },
  {
   "cell_type": "code",
   "execution_count": null,
   "metadata": {
    "_uuid": "f43cddb72cc96b30df84bc0de83a4d9170904340"
   },
   "outputs": [],
   "source": [
    "#your code here"
   ]
  },
  {
   "cell_type": "markdown",
   "metadata": {},
   "source": [
    "Как зависит успех сдачи экзамена от уровня образования? \n",
    "\n",
    "Постройте гистограмму (countplot) распределения студентов по уровням образования"
   ]
  },
  {
   "cell_type": "code",
   "execution_count": null,
   "metadata": {},
   "outputs": [],
   "source": [
    "#your code here"
   ]
  },
  {
   "cell_type": "markdown",
   "metadata": {},
   "source": [
    "Создайте countplot, отображающий зависимость Math_PassStatus от parental level of education "
   ]
  },
  {
   "cell_type": "code",
   "execution_count": null,
   "metadata": {
    "_uuid": "258633b3d293e00d5d37d4f4571adb180328482a"
   },
   "outputs": [],
   "source": [
    "#your code here"
   ]
  },
  {
   "cell_type": "markdown",
   "metadata": {
    "_uuid": "539842648017c18188d24422cb2d29737fe2b3f2"
   },
   "source": [
    "#### Исследуем оценки за чтение (Reading)\n",
    "\n",
    "Повторите предыдущие шаги"
   ]
  },
  {
   "cell_type": "code",
   "execution_count": null,
   "metadata": {
    "_uuid": "e8031579861ee1cb84fe8da1dee305e87861d43a"
   },
   "outputs": [],
   "source": [
    "#your code here"
   ]
  },
  {
   "cell_type": "markdown",
   "metadata": {
    "_uuid": "2a97e2985d263f06b43720376cf403be01c7c056"
   },
   "source": [
    "#### Исследуем оценки за письмо (Writing)\n",
    "\n",
    "Повторите предыдущие шаги"
   ]
  },
  {
   "cell_type": "code",
   "execution_count": null,
   "metadata": {
    "_uuid": "6dc226a1335d12e84c66c81d4076bdac9531d8a5"
   },
   "outputs": [],
   "source": [
    "#your code here"
   ]
  },
  {
   "cell_type": "markdown",
   "metadata": {
    "_uuid": "b753c90914ee65501e2ed263ea614d88a381c472"
   },
   "source": [
    "#### Сколько студентов успешно сдали все экзамены?\n",
    "\n",
    "Создайте столбец OverAll_PassStatus и запишите в него для каждого студента 'F', если студент не сдал хотя бы один из трех экзаменов, а иначе 'P'.\n",
    "\n",
    "Посчитайте количество студентов, которые сдали все экзамены."
   ]
  },
  {
   "cell_type": "code",
   "execution_count": null,
   "metadata": {
    "_uuid": "e98f895a022b967cab801447b616222439fe9d84"
   },
   "outputs": [],
   "source": [
    "#your code here"
   ]
  },
  {
   "cell_type": "markdown",
   "metadata": {},
   "source": [
    "Создайте диаграмму, отображающую зависимость OverAll_PassStatus от parental level of education"
   ]
  },
  {
   "cell_type": "code",
   "execution_count": null,
   "metadata": {
    "_uuid": "616218bdd8992658024bc9485d0bcec61269dd90"
   },
   "outputs": [],
   "source": [
    "#your code here"
   ]
  },
  {
   "cell_type": "markdown",
   "metadata": {
    "_uuid": "84d223387b7df9074ece4f55aba9204fa83b7726"
   },
   "source": [
    "#### Найдите распределение средней оценки за все экзамены\n",
    "\n",
    "Создайте столбец Total_Marks и запишите в него суммарный балл каждого студента за все дисциплины.\n",
    "\n",
    "Создайте столбец Percentage, в который запишите средний балл студента за все дисциплины.\n",
    "\n",
    "Нарисуйте гистограмму распределения среднего балла."
   ]
  },
  {
   "cell_type": "code",
   "execution_count": null,
   "metadata": {
    "_uuid": "d327e9d26024b53eaa30d49ffe0694780003f216"
   },
   "outputs": [],
   "source": [
    "#your code here"
   ]
  },
  {
   "cell_type": "markdown",
   "metadata": {},
   "source": [
    "**Итоговый балл в зависимости от уровня образования**"
   ]
  },
  {
   "cell_type": "code",
   "execution_count": null,
   "metadata": {},
   "outputs": [],
   "source": [
    "fig,ax=plt.subplots()\n",
    "sns.barplot(x='parental level of education',y='Total_Marks',data=df,palette='Wistia')\n",
    "fig.autofmt_xdate()"
   ]
  },
  {
   "cell_type": "markdown",
   "metadata": {
    "_uuid": "3af9c6cb4cbfff66d4ae09509f10b8b6ce33075d"
   },
   "source": [
    "#### Переведем баллы в оценки\n",
    "\n",
    "### Система перевода баллов в оценки\n",
    "####    больше 80 = A\n",
    "####      70-80 = B\n",
    "####      60-70 = C\n",
    "####      50-60 = D\n",
    "####      40-50 = E\n",
    "####    меньше 40 = F (Fail)\n",
    "\n",
    "Создайте вспомогательную функцию, которая будет по среднему баллу выставлять оценку студенту по данным выше критериям.\n",
    "\n",
    "Создайте столбец Grade и запишите в него оценку каждого студента.\n",
    "\n",
    "Выведите количество студентов, получивших каждую из оценок."
   ]
  },
  {
   "cell_type": "code",
   "execution_count": null,
   "metadata": {
    "_uuid": "04707c5be4237020b906d2ac705a0db3d620506f"
   },
   "outputs": [],
   "source": [
    "def GetGrade(Percentage, OverAll_PassStatus):\n",
    "    #your code here\n",
    "    \n",
    "df['Grade'] = df.apply(lambda x : GetGrade(x['Percentage'], x['OverAll_PassStatus']), axis=1)\n",
    "\n",
    "#your code here"
   ]
  },
  {
   "cell_type": "markdown",
   "metadata": {
    "_uuid": "f2abccff0d8d90a949e5efe401f88707b3b3083b"
   },
   "source": [
    "#### Нарисуем распределение полученных оценок"
   ]
  },
  {
   "cell_type": "code",
   "execution_count": null,
   "metadata": {
    "_uuid": "d8aeb2338a43bb1a69aa8f9a2100639f8cfe6610"
   },
   "outputs": [],
   "source": [
    "sns.countplot(x=\"Grade\", data = df, order=['A','B','C','D','E','F'],  palette=\"muted\")\n",
    "plt.show()"
   ]
  },
  {
   "cell_type": "markdown",
   "metadata": {
    "_uuid": "58927b6c3d0cec0f3618f324314cb7dd5a0d43f6"
   },
   "source": [
    "Нарисуйте гистограмму распределения оценок в зависимости от уровня образования."
   ]
  },
  {
   "cell_type": "code",
   "execution_count": null,
   "metadata": {},
   "outputs": [],
   "source": [
    "#your code here"
   ]
  },
  {
   "cell_type": "markdown",
   "metadata": {
    "_uuid": "53575fb3310f108e286e30f2f791b3791f1df977"
   },
   "source": [
    "Посмотрим на лучших студентов"
   ]
  },
  {
   "cell_type": "code",
   "execution_count": null,
   "metadata": {},
   "outputs": [],
   "source": [
    "df[(df['math score'] > 90) & (df['reading score'] > 90) & (df['writing score']>90)]\\\n",
    ".sort_values(by=['Total_Marks'],ascending=False)"
   ]
  },
  {
   "cell_type": "markdown",
   "metadata": {},
   "source": [
    "Посмотрим на распределение оценок в зависимости от пола для каждой этнической группы"
   ]
  },
  {
   "cell_type": "code",
   "execution_count": null,
   "metadata": {},
   "outputs": [],
   "source": [
    "plt.figure(figsize=(20,8))\n",
    "plt.subplot(1, 3, 1)\n",
    "plt.title('MATH SCORES')\n",
    "sns.barplot(x='race/ethnicity',y='math score',data=df,hue='gender',palette='Paired')\n",
    "plt.subplot(1, 3, 2)\n",
    "plt.title('READING SCORES')\n",
    "sns.barplot(x='race/ethnicity',y='reading score',data=df,hue='gender',palette='Paired')\n",
    "plt.subplot(1, 3, 3)\n",
    "plt.title('WRITING SCORES')\n",
    "sns.barplot(x='race/ethnicity',y='writing score',data=df,hue='gender',palette='Paired')\n",
    "plt.show()"
   ]
  },
  {
   "cell_type": "markdown",
   "metadata": {},
   "source": [
    "# Машинное обучение"
   ]
  },
  {
   "cell_type": "markdown",
   "metadata": {},
   "source": [
    "## Решим задачу предсказания сдачи/несдачи студентом теста по известной информации."
   ]
  },
  {
   "cell_type": "code",
   "execution_count": null,
   "metadata": {},
   "outputs": [],
   "source": [
    "df.columns"
   ]
  },
  {
   "cell_type": "markdown",
   "metadata": {},
   "source": [
    "Закодируем с помощью OneHotEncoding категориальные признаки"
   ]
  },
  {
   "cell_type": "code",
   "execution_count": null,
   "metadata": {
    "scrolled": true
   },
   "outputs": [],
   "source": [
    "base = pd.get_dummies(df,columns=['gender','race/ethnicity','parental level of education','test preparation course',\\\n",
    "                                  'lunch'],dtype = int)\n",
    "base.sample()\n",
    "base.info()"
   ]
  },
  {
   "cell_type": "markdown",
   "metadata": {},
   "source": [
    "## Создадим обучающую матрицу и столбец с целевой переменной.\n",
    "\n",
    "Создайте матрицу признаков X, состоящую только из закодированных признаков.\n",
    "\n",
    "Создайте целевой вектор y, в котором для каждого студента стоит 1, его OverAll_PassStatus равен 'P', и 0 иначе."
   ]
  },
  {
   "cell_type": "code",
   "execution_count": null,
   "metadata": {},
   "outputs": [],
   "source": [
    "#your code here"
   ]
  },
  {
   "cell_type": "code",
   "execution_count": null,
   "metadata": {},
   "outputs": [],
   "source": [
    "from sklearn.model_selection import train_test_split\n",
    "from sklearn.metrics import accuracy_score\n",
    "from sklearn.linear_model import LogisticRegression\n",
    "\n",
    "train_x,test_x,train_y,test_y = train_test_split(X,y,test_size = 0.05)\n",
    "\n",
    "model = LogisticRegression()\n",
    "model.fit(train_x,train_y)\n",
    "\n",
    "target = model.predict(test_x)\n",
    "\n",
    "accuracy_score(target,test_y)"
   ]
  },
  {
   "cell_type": "markdown",
   "metadata": {},
   "source": [
    "### Посмотрим, не переобучился ли наш алгоритм\n",
    "\n",
    "Для этого:\n",
    "\n",
    "1) посмотрим на качество алгоритма на обучающих данных и на тестовых данных\n",
    "\n",
    "2) запустим обучение и предсказание несколько раз для разных разбиений и посмотрим на стабильность предсказаний (на метрику)"
   ]
  },
  {
   "cell_type": "code",
   "execution_count": null,
   "metadata": {},
   "outputs": [],
   "source": [
    "train_x, test_x, train_y, test_y = train_test_split(X, y, test_size = 0.15)\n",
    "\n",
    "model = LogisticRegression()\n",
    "model.fit(train_x,train_y)\n",
    "\n",
    "target_train = model.predict(train_x)\n",
    "target_test = model.predict(test_x)\n",
    "\n",
    "print('score on train: {0}, score on test: {1}'.format(accuracy_score(target_train,train_y),accuracy_score(target_test,test_y)))"
   ]
  },
  {
   "cell_type": "markdown",
   "metadata": {},
   "source": [
    "### Попробуйте использовать другой классификатор - решающее дерево.\n",
    "\n",
    "А он переобучается?"
   ]
  },
  {
   "cell_type": "code",
   "execution_count": 1,
   "metadata": {},
   "outputs": [],
   "source": [
    "from sklearn.tree import DecisionTreeClassifier\n",
    "\n",
    "#your code here"
   ]
  },
  {
   "cell_type": "markdown",
   "metadata": {},
   "source": [
    "## Теперь решим задачу регрессии: предскажем суммарный балл каждого студента за тест.\n",
    "\n",
    "Создайте целевой вектор y2, равный столбцу Percentage"
   ]
  },
  {
   "cell_type": "code",
   "execution_count": null,
   "metadata": {
    "scrolled": true
   },
   "outputs": [],
   "source": [
    "#your code here"
   ]
  },
  {
   "cell_type": "markdown",
   "metadata": {},
   "source": [
    "Обучите линейную регрессию для решения данной задаче по аналогии с предыдущим примером классификации.\n",
    "\n",
    "Сделайте предсказние на тестовой части.\n",
    "\n",
    "Выведите качество предсказания (средеквадратичную ошибку - MSE)."
   ]
  },
  {
   "cell_type": "code",
   "execution_count": null,
   "metadata": {},
   "outputs": [],
   "source": [
    "from sklearn.metrics import mean_squared_error\n",
    "from sklearn.linear_model import LinearRegression\n",
    "\n",
    "#your code here"
   ]
  },
  {
   "cell_type": "markdown",
   "metadata": {},
   "source": [
    "### Аналогично предыдущей задаче проверьте, не переобучается ли ваш алгоритм"
   ]
  },
  {
   "cell_type": "code",
   "execution_count": null,
   "metadata": {},
   "outputs": [],
   "source": [
    "#your code here"
   ]
  }
 ],
 "metadata": {
  "kernelspec": {
   "display_name": "Python 3",
   "language": "python",
   "name": "python3"
  },
  "language_info": {
   "codemirror_mode": {
    "name": "ipython",
    "version": 3
   },
   "file_extension": ".py",
   "mimetype": "text/x-python",
   "name": "python",
   "nbconvert_exporter": "python",
   "pygments_lexer": "ipython3",
   "version": "3.6.6"
  }
 },
 "nbformat": 4,
 "nbformat_minor": 1
}
