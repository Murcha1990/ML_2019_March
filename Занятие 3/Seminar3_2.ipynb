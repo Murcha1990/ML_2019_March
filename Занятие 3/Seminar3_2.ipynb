{
 "cells": [
  {
   "cell_type": "markdown",
   "metadata": {},
   "source": [
    "# Задание\n",
    "\n",
    "http://www.jeroenclaes.be/statistics_for_linguistics/class7.html\n",
    "\n",
    "Предсказание среднего времени реакции в лингвистическом эксперименте (целевая переменная - RTlexdec).\n",
    "\n",
    "Цель - создать наилучшую предсказательную модель с помощью алгоритма линейной регрессии.\n",
    "\n",
    "### Что необходимо сделать:\n",
    "\n",
    "1) Исследуйте зависимость целевой переменной от исходных факторов и пар факторов, постройте диаграммы, отражающие эти зависимости.\n",
    "\n",
    "2) Закодируйте категориальные признаки. Начните с OneHotEncoding, затем попробуйте счетчики.\n",
    "\n",
    "3) Сделайте масштабирование данных.\n",
    "\n",
    "4) Обучите линейную регрессию, посмотрите на качество (r2_score) на кросс-валидации.\n",
    "\n",
    "5) Выведите на экран веса признаков, дайте интерпретацию этим весам.\n",
    "\n",
    "6) Поработайте над созданием новых признаков (функции от исходных признаков, функции от пар признаков и т.д.). Добейтесь увеличения качества исходного алгоритма."
   ]
  },
  {
   "cell_type": "code",
   "execution_count": 1,
   "metadata": {},
   "outputs": [],
   "source": [
    "import pandas as pd"
   ]
  },
  {
   "cell_type": "code",
   "execution_count": 119,
   "metadata": {},
   "outputs": [],
   "source": [
    "df = pd.read_csv(\"class7_Baayen_et_al_2006.csv\")\n",
    "df.head()"
   ]
  },
  {
   "cell_type": "code",
   "execution_count": 148,
   "metadata": {},
   "outputs": [],
   "source": [
    "#your code here"
   ]
  }
 ],
 "metadata": {
  "kernelspec": {
   "display_name": "Python 3",
   "language": "python",
   "name": "python3"
  },
  "language_info": {
   "codemirror_mode": {
    "name": "ipython",
    "version": 3
   },
   "file_extension": ".py",
   "mimetype": "text/x-python",
   "name": "python",
   "nbconvert_exporter": "python",
   "pygments_lexer": "ipython3",
   "version": "3.6.6"
  }
 },
 "nbformat": 4,
 "nbformat_minor": 2
}
