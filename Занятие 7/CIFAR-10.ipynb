{
 "cells": [
  {
   "cell_type": "markdown",
   "metadata": {},
   "source": [
    "# Задача классификации изображений CIFAR10.\n",
    "\n",
    "https://www.cs.toronto.edu/~kriz/cifar.html\n",
    "\n",
    "### Постройте нейронную сеть для решения данной задачи.\n",
    "\n",
    "1) Начните с полного дублирования нейронной сети из примера с MNIST (вам только надо будет поменять число слоев на первом полносвязном слое).\n",
    "\n",
    "2) Попробуйте изменить архитектуру сети (число и размер сверток и сверточных слоев, max_pooling, dropout, число линейных слоев и число нейронов вних), чтобы добиться наивысшего качества классификации и не переобучиться. Можете также менять число эпох. Еще можно менять тип градиентного спуска с SGD на другие (https://pytorch.org/docs/stable/optim.html).\n",
    "\n",
    "3*) Попробуйте сделать аугментацию данных (повороты, отражения и т.д.) - этот прием может повысить качество классификации. Для примера почитайте этот ноутбук https://colab.research.google.com/drive/109vu3F1LTzD1gdVV6cho9fKGx7lzbFll\n",
    "Не забывайте гуглить другие примеры!\n",
    "\n",
    "4*) Данные для вашего удобства загружены в черно-белом варианте. Попробуйте загрузить данные в изначальном (цветном) варианте - ровно такими командами, как делали в примере с MNIST. Попробуйте создать архитектуру нейросети, работающей с цветными изображениями."
   ]
  },
  {
   "cell_type": "code",
   "execution_count": 1,
   "metadata": {},
   "outputs": [],
   "source": [
    "import torch\n",
    "import torchvision"
   ]
  },
  {
   "cell_type": "code",
   "execution_count": 2,
   "metadata": {},
   "outputs": [
    {
     "data": {
      "text/plain": [
       "<torch._C.Generator at 0x2508201e990>"
      ]
     },
     "execution_count": 2,
     "metadata": {},
     "output_type": "execute_result"
    }
   ],
   "source": [
    "n_epochs = 3\n",
    "batch_size_train = 64\n",
    "batch_size_test = 1000\n",
    "learning_rate = 0.01\n",
    "momentum = 0.5\n",
    "log_interval = 10\n",
    "\n",
    "random_seed = 1\n",
    "torch.backends.cudnn.enabled = False\n",
    "torch.manual_seed(random_seed)"
   ]
  },
  {
   "cell_type": "markdown",
   "metadata": {},
   "source": [
    "### Датасет CIFAR10 содержит 60000 изображений для 10-классовой классификации, 50000 - для обучения, 10000 - для тестирования."
   ]
  },
  {
   "cell_type": "code",
   "execution_count": 62,
   "metadata": {
    "scrolled": true
   },
   "outputs": [
    {
     "name": "stdout",
     "output_type": "stream",
     "text": [
      "Files already downloaded and verified\n",
      "Files already downloaded and verified\n"
     ]
    }
   ],
   "source": [
    "train_loader = torch.utils.data.DataLoader(\n",
    "  torchvision.datasets.CIFAR10('/CIFAR10/', train=True, download=True,\n",
    "                             transform=torchvision.transforms.Compose([\n",
    "                             torchvision.transforms.Grayscale(num_output_channels=1),\n",
    "                                 torchvision.transforms.ToTensor(),\n",
    "                               torchvision.transforms.Normalize(\n",
    "                                  [0.5], [0.5])\n",
    "                             ])),\n",
    "  batch_size=batch_size_train, shuffle=True)\n",
    "\n",
    "test_loader = torch.utils.data.DataLoader(\n",
    "  torchvision.datasets.CIFAR10('/CIFAR10/', train=False, download=True,\n",
    "                             transform=torchvision.transforms.Compose([\n",
    "                            torchvision.transforms.Grayscale(num_output_channels=1),\n",
    "                               torchvision.transforms.ToTensor(),\n",
    "                               torchvision.transforms.Normalize(\n",
    "                                  [0.5],[0.5])\n",
    "                             ])),\n",
    "  batch_size=batch_size_test, shuffle=True)"
   ]
  },
  {
   "cell_type": "code",
   "execution_count": 63,
   "metadata": {},
   "outputs": [],
   "source": [
    "#your code here"
   ]
  }
 ],
 "metadata": {
  "kernelspec": {
   "display_name": "Python 3",
   "language": "python",
   "name": "python3"
  },
  "language_info": {
   "codemirror_mode": {
    "name": "ipython",
    "version": 3
   },
   "file_extension": ".py",
   "mimetype": "text/x-python",
   "name": "python",
   "nbconvert_exporter": "python",
   "pygments_lexer": "ipython3",
   "version": "3.6.6"
  }
 },
 "nbformat": 4,
 "nbformat_minor": 2
}
